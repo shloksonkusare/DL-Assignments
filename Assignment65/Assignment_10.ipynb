{
 "cells": [
  {
   "cell_type": "code",
   "execution_count": null,
   "id": "56cf4df5",
   "metadata": {},
   "outputs": [],
   "source": [
    "import numpy as np\n",
    "import pandas as pd\n",
    "import matplotlib.pyplot as plt\n",
    "from sklearn.preprocessing import MinMaxScaler\n",
    "from tensorflow.keras.models import Sequential\n",
    "from tensorflow.keras.layers import LSTM, Dense\n"
   ]
  },
  {
   "cell_type": "code",
   "execution_count": null,
   "id": "a40e8e7a",
   "metadata": {},
   "outputs": [],
   "source": [
    "# Simulated dummy weather data (Temperature over 100 days)\n",
    "# You can replace this with: df = pd.read_csv(\"weather.csv\")\n",
    "np.random.seed(0)\n",
    "days = 100\n",
    "temperature = np.sin(np.linspace(0, 10, days)) * 10 + 25 + np.random.randn(days)\n",
    "df = pd.DataFrame({'Temp': temperature})\n"
   ]
  },
  {
   "cell_type": "code",
   "execution_count": null,
   "id": "b0b581d1",
   "metadata": {},
   "outputs": [],
   "source": [
    "scaler = MinMaxScaler(feature_range=(0, 1))\n",
    "scaled_temp = scaler.fit_transform(df[['Temp']])\n",
    "\n",
    "# Create sequences\n",
    "def create_sequences(data, seq_length=10):\n",
    "    X, y = [], []\n",
    "    for i in range(len(data) - seq_length):\n",
    "        X.append(data[i:i+seq_length])\n",
    "        y.append(data[i+seq_length])\n",
    "    return np.array(X), np.array(y)\n",
    "\n",
    "X, y = create_sequences(scaled_temp)\n"
   ]
  },
  {
   "cell_type": "code",
   "execution_count": null,
   "id": "b863ff9b",
   "metadata": {},
   "outputs": [],
   "source": [
    "model = Sequential([\n",
    "    LSTM(50, return_sequences=False, input_shape=(X.shape[1], 1)),\n",
    "    Dense(1)\n",
    "])\n",
    "model.compile(optimizer='adam', loss='mse')\n",
    "model.fit(X, y, epochs=20, batch_size=8, verbose=1)\n"
   ]
  },
  {
   "cell_type": "code",
   "execution_count": null,
   "id": "13ed2b9e",
   "metadata": {},
   "outputs": [],
   "source": [
    "predicted = model.predict(X)\n",
    "predicted_rescaled = scaler.inverse_transform(predicted)\n",
    "actual_rescaled = scaler.inverse_transform(y)\n",
    "\n",
    "# Plot\n",
    "plt.figure(figsize=(10,5))\n",
    "plt.plot(actual_rescaled, label='Actual Temp')\n",
    "plt.plot(predicted_rescaled, label='Predicted Temp')\n",
    "plt.title('City Weather (Temperature) Prediction')\n",
    "plt.xlabel('Time')\n",
    "plt.ylabel('Temperature')\n",
    "plt.legend()\n",
    "plt.show()\n"
   ]
  }
 ],
 "metadata": {
  "language_info": {
   "name": "python"
  }
 },
 "nbformat": 4,
 "nbformat_minor": 5
}
